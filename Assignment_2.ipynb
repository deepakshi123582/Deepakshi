{
  "nbformat": 4,
  "nbformat_minor": 0,
  "metadata": {
    "colab": {
      "provenance": []
    },
    "kernelspec": {
      "name": "python3",
      "display_name": "Python 3"
    },
    "language_info": {
      "name": "python"
    }
  },
  "cells": [
    {
      "cell_type": "code",
      "execution_count": 1,
      "metadata": {
        "colab": {
          "base_uri": "https://localhost:8080/"
        },
        "id": "GjOEcgkDYsM_",
        "outputId": "ef3421e5-e6e8-4f6e-83d4-485093d94343"
      },
      "outputs": [
        {
          "output_type": "stream",
          "name": "stdout",
          "text": [
            "Initial list L= [10, 20, 30, 40, 50, 60, 70, 80]\n",
            "List after adding 200 and 300: [10, 20, 30, 40, 50, 60, 70, 80, 200, 300]\n",
            "List after removing 10 and 30: [20, 40, 50, 60, 70, 80, 200, 300]\n",
            "List sorted in ascending order: [20, 40, 50, 60, 70, 80, 200, 300]\n",
            "List sorted in descending order: [300, 200, 80, 70, 60, 50, 40, 20]\n"
          ]
        }
      ],
      "source": [
        "# Q1 Create a List L that is defined as= [10, 20, 30, 40, 50, 60, 70, 80].\n",
        "L=[10, 20, 30, 40, 50, 60, 70, 80]\n",
        "print(\"Initial list L=\", L)\n",
        "\n",
        "# i. WAP to add 200 and 300 to L.\n",
        "L.append(200)\n",
        "L.append(300)\n",
        "print(\"List after adding 200 and 300:\", L)\n",
        "\n",
        "# ii. WAP to remove 10 and 30 from L.\n",
        "L.remove(10)\n",
        "L.remove(30)\n",
        "print(\"List after removing 10 and 30:\", L)\n",
        "\n",
        "# iii. WAP to sort L in ascending order.\n",
        "L.sort()\n",
        "print(\"List sorted in ascending order:\",L)\n",
        "\n",
        "# iv. WAP to sort L in descending order.\n",
        "L.sort(reverse=True)\n",
        "print(\"List sorted in descending order:\",L)"
      ]
    },
    {
      "cell_type": "code",
      "source": [
        "# 2. Create a tuple of marks scored as scores = (45, 89.5, 76, 45.4, 89, 92, 58, 45) and\n",
        "# perform the following operations using tuple functions:\n",
        "scores = (45, 89.5, 76, 45.4, 89, 92, 58, 45)\n",
        "print(\"scores =\",scores)\n",
        "\n",
        "# i. Identify the highest score and its index in the tuple.\n",
        "highest_score=max(scores)\n",
        "index1=scores.index(highest_score)\n",
        "print(\"highest score =\",highest_score ,\" index is \",index1)\n",
        "\n",
        "# ii. Find the lowest score and count how many times it appears.\n",
        "lowest_score=min(scores)\n",
        "count=scores.count(lowest_score)\n",
        "print(\"lowest score =\",lowest_score ,\" count is \",count)\n",
        "\n",
        "# iii. Reverse the tuple and return it as a list.\n",
        "scores=scores[::-1]\n",
        "score_list=list(scores)\n",
        "print(score_list)\n",
        "\n",
        "# iv. Check if a specific score ‘76’ (input by the user) is present in the tuple and print its first occurrence index, or a message saying it’s not present.int()\n",
        "s=float(input(\"enter score: \"))\n",
        "if s in scores:\n",
        "  print(\"element found at index \",scores.index(s))\n",
        "else :\n",
        "  print(\"its not present\")"
      ],
      "metadata": {
        "colab": {
          "base_uri": "https://localhost:8080/"
        },
        "id": "3igtOR8_a094",
        "outputId": "1c243da3-096b-4823-c6ae-6b2e3d676b7e"
      },
      "execution_count": 4,
      "outputs": [
        {
          "output_type": "stream",
          "name": "stdout",
          "text": [
            "scores = (45, 89.5, 76, 45.4, 89, 92, 58, 45)\n",
            "highest score = 92  index is  5\n",
            "lowest score = 45  count is  2\n",
            "[45, 58, 92, 89, 45.4, 76, 89.5, 45]\n",
            "enter score: 89\n",
            "element found at index  3\n"
          ]
        }
      ]
    },
    {
      "cell_type": "code",
      "source": [
        "\n",
        "# 3. WAP to create a list of 100 random numbers between 100 and 900. Count and print the:\n",
        "import random as random\n",
        "\n",
        "def is_prime(num):\n",
        "  if num<=1:\n",
        "    return False\n",
        "  for i in range(2, int(num**0.5) + 1):\n",
        "        if num % i == 0:\n",
        "            return False\n",
        "  return True\n",
        "\n",
        "random_nums=[]\n",
        "\n",
        "for i in range(100):\n",
        "  random_nums.append(random.randint(100, 900))\n",
        "\n",
        "print(\"list =\",random_nums)\n",
        "\n",
        "odd_nums=[]\n",
        "even_nums=[]\n",
        "prime_nums=[]\n",
        "\n",
        "for i in random_nums:\n",
        "  if i%2==0:\n",
        "    even_nums.append(i)\n",
        "  else :\n",
        "    odd_nums.append(i)\n",
        "\n",
        "  if is_prime(i):\n",
        "    prime_nums.append(i)\n",
        "\n",
        "\n",
        "\n",
        "    # i. All odd numbers\n",
        "print(\"Odd nums : \",odd_nums)\n",
        "# ii. All even numbers\n",
        "print(\"Even nums : \",even_nums)\n",
        "# iii. All prime numbers\n",
        "print(\"Prime nums : \",prime_nums)"
      ],
      "metadata": {
        "colab": {
          "base_uri": "https://localhost:8080/"
        },
        "id": "JwmEmgvPbd7t",
        "outputId": "0ea7cf4d-e218-434c-b462-039a96b4f755"
      },
      "execution_count": 5,
      "outputs": [
        {
          "output_type": "stream",
          "name": "stdout",
          "text": [
            "list = [608, 526, 786, 823, 773, 574, 781, 823, 334, 743, 534, 454, 478, 301, 668, 241, 708, 553, 811, 487, 370, 834, 858, 750, 433, 179, 231, 747, 103, 421, 211, 874, 178, 535, 689, 536, 236, 124, 824, 376, 312, 750, 589, 878, 510, 616, 122, 251, 820, 891, 637, 275, 474, 586, 211, 106, 110, 498, 862, 127, 442, 454, 119, 846, 266, 571, 877, 570, 430, 413, 690, 171, 883, 397, 380, 822, 679, 602, 468, 567, 408, 435, 503, 298, 862, 889, 415, 268, 682, 597, 153, 694, 421, 815, 877, 230, 111, 565, 697, 439]\n",
            "Odd nums :  [823, 773, 781, 823, 743, 301, 241, 553, 811, 487, 433, 179, 231, 747, 103, 421, 211, 535, 689, 589, 251, 891, 637, 275, 211, 127, 119, 571, 877, 413, 171, 883, 397, 679, 567, 435, 503, 889, 415, 597, 153, 421, 815, 877, 111, 565, 697, 439]\n",
            "Even nums :  [608, 526, 786, 574, 334, 534, 454, 478, 668, 708, 370, 834, 858, 750, 874, 178, 536, 236, 124, 824, 376, 312, 750, 878, 510, 616, 122, 820, 474, 586, 106, 110, 498, 862, 442, 454, 846, 266, 570, 430, 690, 380, 822, 602, 468, 408, 298, 862, 268, 682, 694, 230]\n",
            "Prime nums :  [823, 773, 823, 743, 241, 811, 487, 433, 179, 103, 421, 211, 251, 211, 127, 571, 877, 883, 397, 503, 421, 877, 439]\n"
          ]
        }
      ]
    },
    {
      "cell_type": "code",
      "source": [
        "# 4. Consider the following two sets, A and B, representing scores of two teams in multiple matches. A = {34, 56, 78, 90} and B = {78, 45, 90, 23}\n",
        "# WAP to perform the following operations using set functions:\n",
        "A = {34, 56, 78, 90}\n",
        "B = {78, 45, 90, 23}\n",
        "\n",
        "# i. Find the unique scores achieved by both teams (union of sets).\n",
        "unique_scores=A.union(B)\n",
        "print(\"unique score : \",unique_scores)\n",
        "# ii. Identify the scores that are common to both teams (intersection of sets).\n",
        "common_scores=A.intersection(B)\n",
        "print(\"common scores : \",common_scores)\n",
        "\n",
        "# iii. Find the scores that are exclusive to each team (symmetric difference).\n",
        "exclusive_scores=A.symmetric_difference(B)\n",
        "print(\"symmetric difference : \",exclusive_scores)\n",
        "\n",
        "# iv. Check if the scores of team A are a subset of team B, and if team B's scores are a superset of team A.\n",
        "print(\"is A subset of B \",A.issubset(B))\n",
        "print(\"is B a superset of A \",B.issuperset(A))\n",
        "\n",
        "# v. Remove a specific score X (input by the user) from set A if it exists. If not, print a message saying it is not present.\n",
        "x=int(input(\"enter score to remove\"))\n",
        "if x in A:\n",
        "  A.remove(x)\n",
        "  print(A)\n",
        "else :\n",
        "  print(\"its not present\")"
      ],
      "metadata": {
        "colab": {
          "base_uri": "https://localhost:8080/"
        },
        "id": "uvqRT4kTcc-B",
        "outputId": "c7fa22c4-a4c3-44e8-b92a-44972b106a97"
      },
      "execution_count": 6,
      "outputs": [
        {
          "output_type": "stream",
          "name": "stdout",
          "text": [
            "unique score :  {34, 45, 78, 23, 56, 90}\n",
            "common scores :  {90, 78}\n",
            "symmetric difference :  {34, 45, 23, 56}\n",
            "is A subset of B  False\n",
            "is B a superset of A  False\n",
            "enter score to remove23\n",
            "its not present\n"
          ]
        }
      ]
    },
    {
      "cell_type": "code",
      "source": [
        "#5. Write a program to rename a key city to a locaƟon in the following dictionary.\n",
        "dict1={\n",
        "    \"name\":\"Kelly\",\n",
        "    \"age\":25,\n",
        "    \"salary\":8000,\n",
        "    \"city\":\"New York\"\n",
        "}\n",
        "\n",
        "if \"city\" in dict1:\n",
        "  dict1[\"location\"] = dict1.pop(\"city\")\n",
        "\n",
        "print(dict1)"
      ],
      "metadata": {
        "colab": {
          "base_uri": "https://localhost:8080/"
        },
        "id": "Da5BcmwLcj0Q",
        "outputId": "eacf5a64-79cd-4128-9b3f-f1a19c68430a"
      },
      "execution_count": 7,
      "outputs": [
        {
          "output_type": "stream",
          "name": "stdout",
          "text": [
            "{'name': 'Kelly', 'age': 25, 'salary': 8000, 'location': 'New York'}\n"
          ]
        }
      ]
    },
    {
      "cell_type": "code",
      "source": [],
      "metadata": {
        "id": "CUEMqoa5cxt1"
      },
      "execution_count": null,
      "outputs": []
    }
  ]
}