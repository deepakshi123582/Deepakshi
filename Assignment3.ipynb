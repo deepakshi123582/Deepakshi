{
  "nbformat": 4,
  "nbformat_minor": 0,
  "metadata": {
    "colab": {
      "provenance": []
    },
    "kernelspec": {
      "name": "python3",
      "display_name": "Python 3"
    },
    "language_info": {
      "name": "python"
    }
  },
  "cells": [
    {
      "cell_type": "code",
      "execution_count": 1,
      "metadata": {
        "colab": {
          "base_uri": "https://localhost:8080/"
        },
        "id": "2PMlPYgi2zoX",
        "outputId": "dc9aa951-a84e-4ae5-b8f3-51118fd27c19"
      },
      "outputs": [
        {
          "output_type": "stream",
          "name": "stdout",
          "text": [
            "   Tid Refund Marital Status Taxable Income Cheat\n",
            "0    1    Yes         Single           125K    No\n",
            "1    2     No        Married           100K    No\n",
            "2    3     No         Single            70K    No\n",
            "3    4    Yes        Married           120K    No\n",
            "4    5     No       Divorced            95K   Yes\n",
            "5    6     No        Married            60K    No\n",
            "6    7    Yes       Divorced           220K    No\n",
            "7    8     No         Single            85K   Yes\n",
            "8    9     No        Married            75K    No\n",
            "9   10     No         Single            90K   Yes\n"
          ]
        }
      ],
      "source": [
        "import pandas as pd\n",
        "\n",
        "# Creating the dataset\n",
        "data = {\n",
        "    \"Tid\": [1, 2, 3, 4, 5, 6, 7, 8, 9, 10],\n",
        "    \"Refund\": [\"Yes\", \"No\", \"No\", \"Yes\", \"No\", \"No\", \"Yes\", \"No\", \"No\", \"No\"],\n",
        "    \"Marital Status\": [\"Single\", \"Married\", \"Single\", \"Married\", \"Divorced\", \"Married\",\n",
        "                       \"Divorced\", \"Single\", \"Married\", \"Single\"],\n",
        "    \"Taxable Income\": [\"125K\", \"100K\", \"70K\", \"120K\", \"95K\", \"60K\", \"220K\", \"85K\", \"75K\", \"90K\"],\n",
        "    \"Cheat\": [\"No\", \"No\", \"No\", \"No\", \"Yes\", \"No\", \"No\", \"Yes\", \"No\", \"Yes\"]\n",
        "}\n",
        "df = pd.DataFrame(data)\n",
        "print(df)\n"
      ]
    },
    {
      "cell_type": "code",
      "source": [
        "selected_rows = df.iloc[[0, 4, 7, 8]]\n",
        "print(selected_rows)\n"
      ],
      "metadata": {
        "colab": {
          "base_uri": "https://localhost:8080/"
        },
        "id": "SE24B0fQ3DYr",
        "outputId": "085c9261-91a1-40d5-b051-2c2d0dd1cc85"
      },
      "execution_count": 2,
      "outputs": [
        {
          "output_type": "stream",
          "name": "stdout",
          "text": [
            "   Tid Refund Marital Status Taxable Income Cheat\n",
            "0    1    Yes         Single           125K    No\n",
            "4    5     No       Divorced            95K   Yes\n",
            "7    8     No         Single            85K   Yes\n",
            "8    9     No        Married            75K    No\n"
          ]
        }
      ]
    },
    {
      "cell_type": "code",
      "source": [
        "#Select row from index 3 to 7.\n",
        "rows_3_to_7 = df.iloc[3:8]\n",
        "print(rows_3_to_7)\n",
        "\n",
        "#Select row from index 4 to 8, and column 2 to 4.\n",
        "subset_rows_cols = df.iloc[4:9, 2:5]\n",
        "print(subset_rows_cols)\n",
        "\n",
        "#Select all rows with column index 1 to 3 (include index 3 during selection).\n",
        "all_rows_columns_1_to_3 = df.iloc[:, 1:4]\n",
        "print(all_rows_columns_1_to_3)\n",
        "\n"
      ],
      "metadata": {
        "colab": {
          "base_uri": "https://localhost:8080/"
        },
        "id": "DeSKfDvS5AR1",
        "outputId": "1f541974-af8e-41c9-80c0-0bca7527f042"
      },
      "execution_count": 3,
      "outputs": [
        {
          "output_type": "stream",
          "name": "stdout",
          "text": [
            "   Tid Refund Marital Status Taxable Income Cheat\n",
            "3    4    Yes        Married           120K    No\n",
            "4    5     No       Divorced            95K   Yes\n",
            "5    6     No        Married            60K    No\n",
            "6    7    Yes       Divorced           220K    No\n",
            "7    8     No         Single            85K   Yes\n",
            "  Marital Status Taxable Income Cheat\n",
            "4       Divorced            95K   Yes\n",
            "5        Married            60K    No\n",
            "6       Divorced           220K    No\n",
            "7         Single            85K   Yes\n",
            "8        Married            75K    No\n",
            "  Refund Marital Status Taxable Income\n",
            "0    Yes         Single           125K\n",
            "1     No        Married           100K\n",
            "2     No         Single            70K\n",
            "3    Yes        Married           120K\n",
            "4     No       Divorced            95K\n",
            "5     No        Married            60K\n",
            "6    Yes       Divorced           220K\n",
            "7     No         Single            85K\n",
            "8     No        Married            75K\n",
            "9     No         Single            90K\n"
          ]
        }
      ]
    },
    {
      "cell_type": "code",
      "source": [
        "from google.colab import files\n",
        "files.upload()"
      ],
      "metadata": {
        "colab": {
          "base_uri": "https://localhost:8080/",
          "height": 90
        },
        "id": "YX-unOTM5rue",
        "outputId": "b2eb5829-e56b-44e6-ab28-fe96bc644a60"
      },
      "execution_count": 4,
      "outputs": [
        {
          "output_type": "display_data",
          "data": {
            "text/plain": [
              "<IPython.core.display.HTML object>"
            ],
            "text/html": [
              "\n",
              "     <input type=\"file\" id=\"files-b0385ea2-77c5-4503-9972-1dae1037debd\" name=\"files[]\" multiple disabled\n",
              "        style=\"border:none\" />\n",
              "     <output id=\"result-b0385ea2-77c5-4503-9972-1dae1037debd\">\n",
              "      Upload widget is only available when the cell has been executed in the\n",
              "      current browser session. Please rerun this cell to enable.\n",
              "      </output>\n",
              "      <script>// Copyright 2017 Google LLC\n",
              "//\n",
              "// Licensed under the Apache License, Version 2.0 (the \"License\");\n",
              "// you may not use this file except in compliance with the License.\n",
              "// You may obtain a copy of the License at\n",
              "//\n",
              "//      http://www.apache.org/licenses/LICENSE-2.0\n",
              "//\n",
              "// Unless required by applicable law or agreed to in writing, software\n",
              "// distributed under the License is distributed on an \"AS IS\" BASIS,\n",
              "// WITHOUT WARRANTIES OR CONDITIONS OF ANY KIND, either express or implied.\n",
              "// See the License for the specific language governing permissions and\n",
              "// limitations under the License.\n",
              "\n",
              "/**\n",
              " * @fileoverview Helpers for google.colab Python module.\n",
              " */\n",
              "(function(scope) {\n",
              "function span(text, styleAttributes = {}) {\n",
              "  const element = document.createElement('span');\n",
              "  element.textContent = text;\n",
              "  for (const key of Object.keys(styleAttributes)) {\n",
              "    element.style[key] = styleAttributes[key];\n",
              "  }\n",
              "  return element;\n",
              "}\n",
              "\n",
              "// Max number of bytes which will be uploaded at a time.\n",
              "const MAX_PAYLOAD_SIZE = 100 * 1024;\n",
              "\n",
              "function _uploadFiles(inputId, outputId) {\n",
              "  const steps = uploadFilesStep(inputId, outputId);\n",
              "  const outputElement = document.getElementById(outputId);\n",
              "  // Cache steps on the outputElement to make it available for the next call\n",
              "  // to uploadFilesContinue from Python.\n",
              "  outputElement.steps = steps;\n",
              "\n",
              "  return _uploadFilesContinue(outputId);\n",
              "}\n",
              "\n",
              "// This is roughly an async generator (not supported in the browser yet),\n",
              "// where there are multiple asynchronous steps and the Python side is going\n",
              "// to poll for completion of each step.\n",
              "// This uses a Promise to block the python side on completion of each step,\n",
              "// then passes the result of the previous step as the input to the next step.\n",
              "function _uploadFilesContinue(outputId) {\n",
              "  const outputElement = document.getElementById(outputId);\n",
              "  const steps = outputElement.steps;\n",
              "\n",
              "  const next = steps.next(outputElement.lastPromiseValue);\n",
              "  return Promise.resolve(next.value.promise).then((value) => {\n",
              "    // Cache the last promise value to make it available to the next\n",
              "    // step of the generator.\n",
              "    outputElement.lastPromiseValue = value;\n",
              "    return next.value.response;\n",
              "  });\n",
              "}\n",
              "\n",
              "/**\n",
              " * Generator function which is called between each async step of the upload\n",
              " * process.\n",
              " * @param {string} inputId Element ID of the input file picker element.\n",
              " * @param {string} outputId Element ID of the output display.\n",
              " * @return {!Iterable<!Object>} Iterable of next steps.\n",
              " */\n",
              "function* uploadFilesStep(inputId, outputId) {\n",
              "  const inputElement = document.getElementById(inputId);\n",
              "  inputElement.disabled = false;\n",
              "\n",
              "  const outputElement = document.getElementById(outputId);\n",
              "  outputElement.innerHTML = '';\n",
              "\n",
              "  const pickedPromise = new Promise((resolve) => {\n",
              "    inputElement.addEventListener('change', (e) => {\n",
              "      resolve(e.target.files);\n",
              "    });\n",
              "  });\n",
              "\n",
              "  const cancel = document.createElement('button');\n",
              "  inputElement.parentElement.appendChild(cancel);\n",
              "  cancel.textContent = 'Cancel upload';\n",
              "  const cancelPromise = new Promise((resolve) => {\n",
              "    cancel.onclick = () => {\n",
              "      resolve(null);\n",
              "    };\n",
              "  });\n",
              "\n",
              "  // Wait for the user to pick the files.\n",
              "  const files = yield {\n",
              "    promise: Promise.race([pickedPromise, cancelPromise]),\n",
              "    response: {\n",
              "      action: 'starting',\n",
              "    }\n",
              "  };\n",
              "\n",
              "  cancel.remove();\n",
              "\n",
              "  // Disable the input element since further picks are not allowed.\n",
              "  inputElement.disabled = true;\n",
              "\n",
              "  if (!files) {\n",
              "    return {\n",
              "      response: {\n",
              "        action: 'complete',\n",
              "      }\n",
              "    };\n",
              "  }\n",
              "\n",
              "  for (const file of files) {\n",
              "    const li = document.createElement('li');\n",
              "    li.append(span(file.name, {fontWeight: 'bold'}));\n",
              "    li.append(span(\n",
              "        `(${file.type || 'n/a'}) - ${file.size} bytes, ` +\n",
              "        `last modified: ${\n",
              "            file.lastModifiedDate ? file.lastModifiedDate.toLocaleDateString() :\n",
              "                                    'n/a'} - `));\n",
              "    const percent = span('0% done');\n",
              "    li.appendChild(percent);\n",
              "\n",
              "    outputElement.appendChild(li);\n",
              "\n",
              "    const fileDataPromise = new Promise((resolve) => {\n",
              "      const reader = new FileReader();\n",
              "      reader.onload = (e) => {\n",
              "        resolve(e.target.result);\n",
              "      };\n",
              "      reader.readAsArrayBuffer(file);\n",
              "    });\n",
              "    // Wait for the data to be ready.\n",
              "    let fileData = yield {\n",
              "      promise: fileDataPromise,\n",
              "      response: {\n",
              "        action: 'continue',\n",
              "      }\n",
              "    };\n",
              "\n",
              "    // Use a chunked sending to avoid message size limits. See b/62115660.\n",
              "    let position = 0;\n",
              "    do {\n",
              "      const length = Math.min(fileData.byteLength - position, MAX_PAYLOAD_SIZE);\n",
              "      const chunk = new Uint8Array(fileData, position, length);\n",
              "      position += length;\n",
              "\n",
              "      const base64 = btoa(String.fromCharCode.apply(null, chunk));\n",
              "      yield {\n",
              "        response: {\n",
              "          action: 'append',\n",
              "          file: file.name,\n",
              "          data: base64,\n",
              "        },\n",
              "      };\n",
              "\n",
              "      let percentDone = fileData.byteLength === 0 ?\n",
              "          100 :\n",
              "          Math.round((position / fileData.byteLength) * 100);\n",
              "      percent.textContent = `${percentDone}% done`;\n",
              "\n",
              "    } while (position < fileData.byteLength);\n",
              "  }\n",
              "\n",
              "  // All done.\n",
              "  yield {\n",
              "    response: {\n",
              "      action: 'complete',\n",
              "    }\n",
              "  };\n",
              "}\n",
              "\n",
              "scope.google = scope.google || {};\n",
              "scope.google.colab = scope.google.colab || {};\n",
              "scope.google.colab._files = {\n",
              "  _uploadFiles,\n",
              "  _uploadFilesContinue,\n",
              "};\n",
              "})(self);\n",
              "</script> "
            ]
          },
          "metadata": {}
        },
        {
          "output_type": "stream",
          "name": "stdout",
          "text": [
            "Saving kaggle.json to kaggle.json\n"
          ]
        },
        {
          "output_type": "execute_result",
          "data": {
            "text/plain": [
              "{'kaggle.json': b'{\"username\":\"deepakshi123582\",\"key\":\"0d066068b0871bc624e7cafb4b012195\"}'}"
            ]
          },
          "metadata": {},
          "execution_count": 4
        }
      ]
    },
    {
      "cell_type": "code",
      "source": [
        "import os\n",
        "!mkdir -p ~/.kaggle\n",
        "!mv kaggle.json ~/.kaggle/\n",
        "!chmod 600 ~/.kaggle/kaggle.json"
      ],
      "metadata": {
        "id": "Tkh5l1hE7YWo"
      },
      "execution_count": 5,
      "outputs": []
    },
    {
      "cell_type": "code",
      "source": [
        "!kaggle datasets download -d uciml/iris"
      ],
      "metadata": {
        "colab": {
          "base_uri": "https://localhost:8080/"
        },
        "id": "gtERtVcJ7fRv",
        "outputId": "e13c59d5-a4b3-466a-c0b4-6fc9fc5ba0ce"
      },
      "execution_count": 6,
      "outputs": [
        {
          "output_type": "stream",
          "name": "stdout",
          "text": [
            "Dataset URL: https://www.kaggle.com/datasets/uciml/iris\n",
            "License(s): CC0-1.0\n"
          ]
        }
      ]
    },
    {
      "cell_type": "code",
      "source": [
        "import zipfile\n",
        "\n",
        "with zipfile.ZipFile(\"iris.zip\", 'r') as zip_ref:\n",
        "    zip_ref.extractall(\"iris_data\")"
      ],
      "metadata": {
        "id": "37AiVe6H7mKp"
      },
      "execution_count": 7,
      "outputs": []
    },
    {
      "cell_type": "code",
      "source": [
        "import pandas as pd\n",
        "\n",
        "df = pd.read_csv(\"iris_data/Iris.csv\")\n",
        "print(df.head())"
      ],
      "metadata": {
        "colab": {
          "base_uri": "https://localhost:8080/"
        },
        "id": "ZCw4ehXp7xH0",
        "outputId": "0c7aa959-5ad9-4e25-e392-ace652c83b8a"
      },
      "execution_count": 8,
      "outputs": [
        {
          "output_type": "stream",
          "name": "stdout",
          "text": [
            "   Id  SepalLengthCm  SepalWidthCm  PetalLengthCm  PetalWidthCm      Species\n",
            "0   1            5.1           3.5            1.4           0.2  Iris-setosa\n",
            "1   2            4.9           3.0            1.4           0.2  Iris-setosa\n",
            "2   3            4.7           3.2            1.3           0.2  Iris-setosa\n",
            "3   4            4.6           3.1            1.5           0.2  Iris-setosa\n",
            "4   5            5.0           3.6            1.4           0.2  Iris-setosa\n"
          ]
        }
      ]
    },
    {
      "cell_type": "code",
      "source": [
        "import pandas as pd\n",
        "\n",
        "# Load the dataset\n",
        "df = pd.read_csv(\"iris_data/Iris.csv\")\n",
        "\n",
        "# Delete row with index 4\n",
        "df = df.drop(index=4)\n",
        "\n",
        "# Delete column with index 3\n",
        "df = df.drop(df.columns[3], axis=1)\n",
        "print(df.head(10))\n"
      ],
      "metadata": {
        "colab": {
          "base_uri": "https://localhost:8080/"
        },
        "id": "dIfE2bHG732F",
        "outputId": "ca4d0c62-607d-42e9-9d56-e4d6de433e78"
      },
      "execution_count": 9,
      "outputs": [
        {
          "output_type": "stream",
          "name": "stdout",
          "text": [
            "    Id  SepalLengthCm  SepalWidthCm  PetalWidthCm      Species\n",
            "0    1            5.1           3.5           0.2  Iris-setosa\n",
            "1    2            4.9           3.0           0.2  Iris-setosa\n",
            "2    3            4.7           3.2           0.2  Iris-setosa\n",
            "3    4            4.6           3.1           0.2  Iris-setosa\n",
            "5    6            5.4           3.9           0.4  Iris-setosa\n",
            "6    7            4.6           3.4           0.3  Iris-setosa\n",
            "7    8            5.0           3.4           0.2  Iris-setosa\n",
            "8    9            4.4           2.9           0.2  Iris-setosa\n",
            "9   10            4.9           3.1           0.1  Iris-setosa\n",
            "10  11            5.4           3.7           0.2  Iris-setosa\n"
          ]
        }
      ]
    },
    {
      "cell_type": "code",
      "source": [
        "import pandas as pd\n",
        "data = {\n",
        "    \"Employee_ID\": [101, 102, 103, 104, 105],\n",
        "    \"Name\": [\"Alice\", \"Bob\", \"Charlie\", \"Diana\", \"Edward\"],\n",
        "    \"Department\": [\"HR\", \"IT\", \"IT\", \"Marketing\", \"Sales\"],\n",
        "    \"Age\": [29, 34, 41, 38, 38],\n",
        "    \"Salary\": [50000, 70000, 65000, 55000, 60000],\n",
        "    \"Years_of_Experience\": [4, 8, 10, 3, 12],\n",
        "    \"Joining_Date\": [\"2020-03-15\", \"2017-07-19\", \"2013-06-01\", \"2021-02-10\", \"2010-11-25\"],\n",
        "    \"Gender\": [\"Female\", \"Male\", \"Male\", \"Female\", \"Male\"],\n",
        "    \"Bonus\": [7000, 7000, 6000, 4500, 5000],\n",
        "    \"Rating\": [4.5, 4.0, 3.8, 4.7, 3.5]\n",
        "}\n",
        "\n",
        "df = pd.DataFrame(data)\n",
        "df.to_csv(\"employees.csv\", index=False)\n",
        "df = pd.read_csv(\"employees.csv\")\n",
        "print(df)\n"
      ],
      "metadata": {
        "colab": {
          "base_uri": "https://localhost:8080/"
        },
        "id": "G_8yi023Al6o",
        "outputId": "3a9224d9-3c01-49c6-aec3-288311292b9c"
      },
      "execution_count": 10,
      "outputs": [
        {
          "output_type": "stream",
          "name": "stdout",
          "text": [
            "   Employee_ID     Name Department  Age  Salary  Years_of_Experience  \\\n",
            "0          101    Alice         HR   29   50000                    4   \n",
            "1          102      Bob         IT   34   70000                    8   \n",
            "2          103  Charlie         IT   41   65000                   10   \n",
            "3          104    Diana  Marketing   38   55000                    3   \n",
            "4          105   Edward      Sales   38   60000                   12   \n",
            "\n",
            "  Joining_Date  Gender  Bonus  Rating  \n",
            "0   2020-03-15  Female   7000     4.5  \n",
            "1   2017-07-19    Male   7000     4.0  \n",
            "2   2013-06-01    Male   6000     3.8  \n",
            "3   2021-02-10  Female   4500     4.7  \n",
            "4   2010-11-25    Male   5000     3.5  \n"
          ]
        }
      ]
    },
    {
      "cell_type": "code",
      "source": [
        "#Shape (number of rows and columns) of the DataFrame.\n",
        "print(\"Shape of DataFrame:\", df.shape)\n",
        "#Summary of the DataFrame that includes the data types and non-null counts for\n",
        "#each column.\n",
        "print(df.info())\n",
        "#Generate descriptive statistics.\n",
        "print(df.describe())\n",
        "#Display the first 5 rows and last 3 rows of the dataset.\n",
        "print(\"First 5 Rows:\\n\", df.head())\n",
        "print(\"Last 3 Rows:\\n\", df.tail(3))\n",
        "#Calculate the following statistics from the dataset:\n",
        "#i. The average salary of employees.\n",
        "#ii. The total bonus paid to all employees.\n",
        "#iii. The youngest employee's age.\n",
        "#iv. The highest performance rating.\n",
        "print(\"Average Salary:\", df['Salary'].mean())\n",
        "print(\"Total Bonus:\", df['Bonus'].sum())\n",
        "print(\"Youngest Employee Age:\", df['Age'].min())\n",
        "print(\"Highest Rating:\", df['Rating'].max())\n",
        "#f) Sort the DataFrame by the Salary column in descending order.\n",
        "df_sorted = df.sort_values(by='Salary', ascending=False)\n",
        "print(df_sorted)\n",
        "#g) Add a new column that categorizes employees based on their performance rating:\n",
        "#i. Excellent for ratings >= 4.5\n",
        "#ii. Good for ratings >= 4.0 but < 4.5\n",
        "#iii. Average for ratings < 4.0\n",
        "def categorize_rating(rating):\n",
        "    if rating >= 4.5:\n",
        "        return 'Excellent'\n",
        "    elif rating >= 4.0:\n",
        "        return 'Good'\n",
        "    else:\n",
        "        return \"Average\"\n",
        "\n",
        "df['Performance_Category'] = df['Rating'].apply(categorize_rating)\n",
        "print(df)\n",
        "#Identify missing values in the DataFrame.\n",
        "print(df.isnull().sum())\n",
        "#Rename the Employee_ID column to ID.\n",
        "df.rename(columns={'Employee_ID': 'ID'}, inplace=True)\n",
        "print(df)\n",
        "#Find all employees who:\n",
        "#i. Have more than 5 years of experience.\n",
        "#ii. Belong to the IT department.\n",
        "experienced_employees = df[df[\"Years_of_Experience\"] > 5]\n",
        "print(experienced_employees)\n",
        "it_employees = df[df[\"Department\"] == \"IT\"]\n",
        "print(it_employees)\n",
        "#Modify the dataset by adding a new column, Tax, which deducts 10% of the\n",
        "#Salary.\n",
        "df['Tax'] = df['Salary'] * 0.1\n",
        "print(df)\n",
        "#Save the modified DataFrame (with added columns) to a new CSV file.\n",
        "df.to_csv(\"modified_employees.csv\", index=False)\n",
        "print(\"File saved as modified_employees.csv\")\n",
        "\n",
        "\n",
        "\n"
      ],
      "metadata": {
        "colab": {
          "base_uri": "https://localhost:8080/"
        },
        "id": "35F1D2p9BMYO",
        "outputId": "68065032-704e-49a4-e4ad-e904c154875c"
      },
      "execution_count": 26,
      "outputs": [
        {
          "output_type": "stream",
          "name": "stdout",
          "text": [
            "Shape of DataFrame: (5, 12)\n",
            "<class 'pandas.core.frame.DataFrame'>\n",
            "RangeIndex: 5 entries, 0 to 4\n",
            "Data columns (total 12 columns):\n",
            " #   Column                Non-Null Count  Dtype  \n",
            "---  ------                --------------  -----  \n",
            " 0   ID                    5 non-null      int64  \n",
            " 1   Name                  5 non-null      object \n",
            " 2   Department            5 non-null      object \n",
            " 3   Age                   5 non-null      int64  \n",
            " 4   Salary                5 non-null      int64  \n",
            " 5   Years_of_Experience   5 non-null      int64  \n",
            " 6   Joining_Date          5 non-null      object \n",
            " 7   Gender                5 non-null      object \n",
            " 8   Bonus                 5 non-null      int64  \n",
            " 9   Rating                5 non-null      float64\n",
            " 10  Performance_Category  5 non-null      object \n",
            " 11  Tax                   5 non-null      float64\n",
            "dtypes: float64(2), int64(5), object(5)\n",
            "memory usage: 612.0+ bytes\n",
            "None\n",
            "               ID        Age       Salary  Years_of_Experience        Bonus  \\\n",
            "count    5.000000   5.000000      5.00000             5.000000     5.000000   \n",
            "mean   103.000000  36.000000  60000.00000             7.400000  5900.000000   \n",
            "std      1.581139   4.636809   7905.69415             3.847077  1140.175425   \n",
            "min    101.000000  29.000000  50000.00000             3.000000  4500.000000   \n",
            "25%    102.000000  34.000000  55000.00000             4.000000  5000.000000   \n",
            "50%    103.000000  38.000000  60000.00000             8.000000  6000.000000   \n",
            "75%    104.000000  38.000000  65000.00000            10.000000  7000.000000   \n",
            "max    105.000000  41.000000  70000.00000            12.000000  7000.000000   \n",
            "\n",
            "         Rating          Tax  \n",
            "count  5.000000     5.000000  \n",
            "mean   4.100000  6000.000000  \n",
            "std    0.494975   790.569415  \n",
            "min    3.500000  5000.000000  \n",
            "25%    3.800000  5500.000000  \n",
            "50%    4.000000  6000.000000  \n",
            "75%    4.500000  6500.000000  \n",
            "max    4.700000  7000.000000  \n",
            "First 5 Rows:\n",
            "     ID     Name Department  Age  Salary  Years_of_Experience Joining_Date  \\\n",
            "0  101    Alice         HR   29   50000                    4   2020-03-15   \n",
            "1  102      Bob         IT   34   70000                    8   2017-07-19   \n",
            "2  103  Charlie         IT   41   65000                   10   2013-06-01   \n",
            "3  104    Diana  Marketing   38   55000                    3   2021-02-10   \n",
            "4  105   Edward      Sales   38   60000                   12   2010-11-25   \n",
            "\n",
            "   Gender  Bonus  Rating Performance_Category     Tax  \n",
            "0  Female   7000     4.5            Excellent  5000.0  \n",
            "1    Male   7000     4.0                 Good  7000.0  \n",
            "2    Male   6000     3.8              Average  6500.0  \n",
            "3  Female   4500     4.7            Excellent  5500.0  \n",
            "4    Male   5000     3.5              Average  6000.0  \n",
            "Last 3 Rows:\n",
            "     ID     Name Department  Age  Salary  Years_of_Experience Joining_Date  \\\n",
            "2  103  Charlie         IT   41   65000                   10   2013-06-01   \n",
            "3  104    Diana  Marketing   38   55000                    3   2021-02-10   \n",
            "4  105   Edward      Sales   38   60000                   12   2010-11-25   \n",
            "\n",
            "   Gender  Bonus  Rating Performance_Category     Tax  \n",
            "2    Male   6000     3.8              Average  6500.0  \n",
            "3  Female   4500     4.7            Excellent  5500.0  \n",
            "4    Male   5000     3.5              Average  6000.0  \n",
            "Average Salary: 60000.0\n",
            "Total Bonus: 29500\n",
            "Youngest Employee Age: 29\n",
            "Highest Rating: 4.7\n",
            "    ID     Name Department  Age  Salary  Years_of_Experience Joining_Date  \\\n",
            "1  102      Bob         IT   34   70000                    8   2017-07-19   \n",
            "2  103  Charlie         IT   41   65000                   10   2013-06-01   \n",
            "4  105   Edward      Sales   38   60000                   12   2010-11-25   \n",
            "3  104    Diana  Marketing   38   55000                    3   2021-02-10   \n",
            "0  101    Alice         HR   29   50000                    4   2020-03-15   \n",
            "\n",
            "   Gender  Bonus  Rating Performance_Category     Tax  \n",
            "1    Male   7000     4.0                 Good  7000.0  \n",
            "2    Male   6000     3.8              Average  6500.0  \n",
            "4    Male   5000     3.5              Average  6000.0  \n",
            "3  Female   4500     4.7            Excellent  5500.0  \n",
            "0  Female   7000     4.5            Excellent  5000.0  \n",
            "    ID     Name Department  Age  Salary  Years_of_Experience Joining_Date  \\\n",
            "0  101    Alice         HR   29   50000                    4   2020-03-15   \n",
            "1  102      Bob         IT   34   70000                    8   2017-07-19   \n",
            "2  103  Charlie         IT   41   65000                   10   2013-06-01   \n",
            "3  104    Diana  Marketing   38   55000                    3   2021-02-10   \n",
            "4  105   Edward      Sales   38   60000                   12   2010-11-25   \n",
            "\n",
            "   Gender  Bonus  Rating Performance_Category     Tax  \n",
            "0  Female   7000     4.5            Excellent  5000.0  \n",
            "1    Male   7000     4.0                 Good  7000.0  \n",
            "2    Male   6000     3.8              Average  6500.0  \n",
            "3  Female   4500     4.7            Excellent  5500.0  \n",
            "4    Male   5000     3.5              Average  6000.0  \n",
            "ID                      0\n",
            "Name                    0\n",
            "Department              0\n",
            "Age                     0\n",
            "Salary                  0\n",
            "Years_of_Experience     0\n",
            "Joining_Date            0\n",
            "Gender                  0\n",
            "Bonus                   0\n",
            "Rating                  0\n",
            "Performance_Category    0\n",
            "Tax                     0\n",
            "dtype: int64\n",
            "    ID     Name Department  Age  Salary  Years_of_Experience Joining_Date  \\\n",
            "0  101    Alice         HR   29   50000                    4   2020-03-15   \n",
            "1  102      Bob         IT   34   70000                    8   2017-07-19   \n",
            "2  103  Charlie         IT   41   65000                   10   2013-06-01   \n",
            "3  104    Diana  Marketing   38   55000                    3   2021-02-10   \n",
            "4  105   Edward      Sales   38   60000                   12   2010-11-25   \n",
            "\n",
            "   Gender  Bonus  Rating Performance_Category     Tax  \n",
            "0  Female   7000     4.5            Excellent  5000.0  \n",
            "1    Male   7000     4.0                 Good  7000.0  \n",
            "2    Male   6000     3.8              Average  6500.0  \n",
            "3  Female   4500     4.7            Excellent  5500.0  \n",
            "4    Male   5000     3.5              Average  6000.0  \n",
            "    ID     Name Department  Age  Salary  Years_of_Experience Joining_Date  \\\n",
            "1  102      Bob         IT   34   70000                    8   2017-07-19   \n",
            "2  103  Charlie         IT   41   65000                   10   2013-06-01   \n",
            "4  105   Edward      Sales   38   60000                   12   2010-11-25   \n",
            "\n",
            "  Gender  Bonus  Rating Performance_Category     Tax  \n",
            "1   Male   7000     4.0                 Good  7000.0  \n",
            "2   Male   6000     3.8              Average  6500.0  \n",
            "4   Male   5000     3.5              Average  6000.0  \n",
            "    ID     Name Department  Age  Salary  Years_of_Experience Joining_Date  \\\n",
            "1  102      Bob         IT   34   70000                    8   2017-07-19   \n",
            "2  103  Charlie         IT   41   65000                   10   2013-06-01   \n",
            "\n",
            "  Gender  Bonus  Rating Performance_Category     Tax  \n",
            "1   Male   7000     4.0                 Good  7000.0  \n",
            "2   Male   6000     3.8              Average  6500.0  \n",
            "    ID     Name Department  Age  Salary  Years_of_Experience Joining_Date  \\\n",
            "0  101    Alice         HR   29   50000                    4   2020-03-15   \n",
            "1  102      Bob         IT   34   70000                    8   2017-07-19   \n",
            "2  103  Charlie         IT   41   65000                   10   2013-06-01   \n",
            "3  104    Diana  Marketing   38   55000                    3   2021-02-10   \n",
            "4  105   Edward      Sales   38   60000                   12   2010-11-25   \n",
            "\n",
            "   Gender  Bonus  Rating Performance_Category     Tax  \n",
            "0  Female   7000     4.5            Excellent  5000.0  \n",
            "1    Male   7000     4.0                 Good  7000.0  \n",
            "2    Male   6000     3.8              Average  6500.0  \n",
            "3  Female   4500     4.7            Excellent  5500.0  \n",
            "4    Male   5000     3.5              Average  6000.0  \n",
            "File saved as modified_employees.csv\n"
          ]
        }
      ]
    }
  ]
}