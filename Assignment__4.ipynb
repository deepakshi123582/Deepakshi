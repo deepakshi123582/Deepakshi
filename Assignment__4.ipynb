{
  "nbformat": 4,
  "nbformat_minor": 0,
  "metadata": {
    "colab": {
      "provenance": []
    },
    "kernelspec": {
      "name": "python3",
      "display_name": "Python 3"
    },
    "language_info": {
      "name": "python"
    }
  },
  "cells": [
    {
      "cell_type": "code",
      "execution_count": 2,
      "metadata": {
        "colab": {
          "base_uri": "https://localhost:8080/"
        },
        "id": "Ajc-uqUmDPsl",
        "outputId": "758625d2-2e2d-44e7-e74b-98f91833b892"
      },
      "outputs": [
        {
          "output_type": "stream",
          "name": "stdout",
          "text": [
            "Original Array: [1 2 3 4 5]\n",
            "After Addition of 2: [3 4 5 6 7]\n",
            "After Multiplication by 3: [ 3  6  9 12 15]\n",
            "After Division by 2: [0.5 1.  1.5 2.  2.5]\n"
          ]
        }
      ],
      "source": [
        "import numpy as np\n",
        "arr = np.array([1, 2, 3, 4, 5])\n",
        "\n",
        "# a) Addition of 2 to all elements\n",
        "arr_addition = arr + 2\n",
        "\n",
        "# b) Multiply all elements by 3\n",
        "arr_multiplication = arr * 3\n",
        "\n",
        "# c) Divide every element by 2\n",
        "arr_division = arr / 2\n",
        "\n",
        "print(\"Original Array:\", arr)\n",
        "print(\"After Addition of 2:\", arr_addition)\n",
        "print(\"After Multiplication by 3:\", arr_multiplication)\n",
        "print(\"After Division by 2:\", arr_division)\n"
      ]
    },
    {
      "cell_type": "code",
      "source": [
        "import numpy as np\n",
        "\n",
        "# (a) Reverse the NumPy array\n",
        "arr = np.array([1, 2, 3, 6, 4, 5])\n",
        "print(\"Reversed Array:\", arr[::-1])\n",
        "\n",
        "# (b) Find the most frequent value and its indices\n",
        "def most_frequent(arr):\n",
        "    unique, counts = np.unique(arr, return_counts=True)\n",
        "    max_count = max(counts)\n",
        "    most_common = unique[counts == max_count][0]\n",
        "    indices = np.where(arr == most_common)[0]\n",
        "    return most_common, indices\n",
        "\n",
        "x = np.array([1, 2, 3, 4, 5, 1, 2, 1, 1, 1])\n",
        "y = np.array([1, 1, 1, 2, 3, 4, 2, 4, 3, 3])\n",
        "\n",
        "val_x, idx_x = most_frequent(x)\n",
        "val_y, idx_y = most_frequent(y)\n",
        "\n",
        "print(\"\\nArray x: Most Frequent Value:\", val_x, \"Indices:\", idx_x)\n",
        "print(\"Array y: Most Frequent Value:\", val_y, \"Indices:\", idx_y)\n"
      ],
      "metadata": {
        "colab": {
          "base_uri": "https://localhost:8080/"
        },
        "id": "a3fY1Vf1EBra",
        "outputId": "b9cd5ba1-edbf-4f71-f2ce-a891716d9e94"
      },
      "execution_count": 3,
      "outputs": [
        {
          "output_type": "stream",
          "name": "stdout",
          "text": [
            "Reversed Array: [5 4 6 3 2 1]\n",
            "\n",
            "Array x: Most Frequent Value: 1 Indices: [0 5 7 8 9]\n",
            "Array y: Most Frequent Value: 1 Indices: [0 1 2]\n"
          ]
        }
      ]
    },
    {
      "cell_type": "code",
      "source": [
        "import numpy as np\n",
        "\n",
        "arr = np.array([\n",
        "    [10, 20, 30],\n",
        "    [40, 50, 60],\n",
        "    [70, 80, 90]\n",
        "])\n",
        "a = arr[0, 1]  # 1st row (index 0), 2nd column (index 1)\n",
        "b = arr[2, 0]  # 3rd row (index 2), 1st column (index 0)\n",
        "\n",
        "print(\"Element at 1st row, 2nd column:\", a)\n",
        "print(\"Element at 3rd row, 1st column:\", b)\n"
      ],
      "metadata": {
        "colab": {
          "base_uri": "https://localhost:8080/"
        },
        "id": "AiRg3kDcEuW5",
        "outputId": "90c05eaa-9351-4f45-b538-62e48401fad8"
      },
      "execution_count": 4,
      "outputs": [
        {
          "output_type": "stream",
          "name": "stdout",
          "text": [
            "Element at 1st row, 2nd column: 20\n",
            "Element at 3rd row, 1st column: 70\n"
          ]
        }
      ]
    },
    {
      "cell_type": "code",
      "source": [
        "import numpy as np\n",
        "arr = np.linspace(10, 100, 25)\n",
        "print(\"Array:\", arr)\n",
        "print(\"Shape:\", arr.shape)\n",
        "print(\"Total elements:\", arr.size)\n",
        "print(\"Data type:\", arr.dtype)\n",
        "print(\"Total bytes used:\", arr.nbytes)\n",
        "\n",
        "# Transpose using reshape()\n",
        "arr_reshaped = arr.reshape(25, 1)\n",
        "print(\"\\nTranspose using reshape():\\n\", arr_reshaped)\n",
        "\n",
        "# Transpose using T\n",
        "arr_T = arr.T\n",
        "print(\"\\nTranspose using T:\\n\", arr_T)\n",
        "print(\"\\nDoes T change a 1D array?\", arr_T.shape == arr.shape)\n"
      ],
      "metadata": {
        "colab": {
          "base_uri": "https://localhost:8080/"
        },
        "id": "HsMYuE5hIS5u",
        "outputId": "69f7df1a-86e7-4c37-c4d8-316f0ef2ed8a"
      },
      "execution_count": 6,
      "outputs": [
        {
          "output_type": "stream",
          "name": "stdout",
          "text": [
            "Array: [ 10.    13.75  17.5   21.25  25.    28.75  32.5   36.25  40.    43.75\n",
            "  47.5   51.25  55.    58.75  62.5   66.25  70.    73.75  77.5   81.25\n",
            "  85.    88.75  92.5   96.25 100.  ]\n",
            "Shape: (25,)\n",
            "Total elements: 25\n",
            "Data type: float64\n",
            "Total bytes used: 200\n",
            "\n",
            "Transpose using reshape():\n",
            " [[ 10.  ]\n",
            " [ 13.75]\n",
            " [ 17.5 ]\n",
            " [ 21.25]\n",
            " [ 25.  ]\n",
            " [ 28.75]\n",
            " [ 32.5 ]\n",
            " [ 36.25]\n",
            " [ 40.  ]\n",
            " [ 43.75]\n",
            " [ 47.5 ]\n",
            " [ 51.25]\n",
            " [ 55.  ]\n",
            " [ 58.75]\n",
            " [ 62.5 ]\n",
            " [ 66.25]\n",
            " [ 70.  ]\n",
            " [ 73.75]\n",
            " [ 77.5 ]\n",
            " [ 81.25]\n",
            " [ 85.  ]\n",
            " [ 88.75]\n",
            " [ 92.5 ]\n",
            " [ 96.25]\n",
            " [100.  ]]\n",
            "\n",
            "Transpose using T:\n",
            " [ 10.    13.75  17.5   21.25  25.    28.75  32.5   36.25  40.    43.75\n",
            "  47.5   51.25  55.    58.75  62.5   66.25  70.    73.75  77.5   81.25\n",
            "  85.    88.75  92.5   96.25 100.  ]\n",
            "\n",
            "Does T change a 1D array? True\n"
          ]
        }
      ]
    },
    {
      "cell_type": "code",
      "source": [
        "import numpy as np\n",
        "ucs420_kavu = np.array([\n",
        "    [10, 20, 30, 40],\n",
        "    [50, 60, 70, 80],\n",
        "    [90, 15, 20, 35]\n",
        "])\n",
        "print(\"Mean:\", np.mean(ucs420_kavu ))\n",
        "print(\"Median:\", np.median(ucs420_kavu ))\n",
        "print(\"Max:\", np.max(ucs420_kavu ))\n",
        "print(\"Min:\", np.min(ucs420_kavu ))\n",
        "print(\"Unique elements:\", np.unique(ucs420_kavu ))\n",
        "\n",
        "# Reshape to 4 rows and 3 columns\n",
        "reshaped_ucs420_kavu  = ucs420_kavu .reshape(4, 3)\n",
        "print(\"\\nReshaped (4x3) array:\\n\", reshaped_ucs420_kavu )\n",
        "\n",
        "# Resize to 2 rows and 3 columns\n",
        "resized_ucs420_kavu  = ucs420_kavu .reshape(2, 6)\n",
        "print(\"\\nResized (2x6) array:\\n\", resized_ucs420_kavu)\n"
      ],
      "metadata": {
        "colab": {
          "base_uri": "https://localhost:8080/"
        },
        "id": "GG9xr48hIa4i",
        "outputId": "644e2a0f-06a4-44d4-9540-7f9dc60f16a4"
      },
      "execution_count": 9,
      "outputs": [
        {
          "output_type": "stream",
          "name": "stdout",
          "text": [
            "Mean: 43.333333333333336\n",
            "Median: 37.5\n",
            "Max: 90\n",
            "Min: 10\n",
            "Unique elements: [10 15 20 30 35 40 50 60 70 80 90]\n",
            "\n",
            "Reshaped (4x3) array:\n",
            " [[10 20 30]\n",
            " [40 50 60]\n",
            " [70 80 90]\n",
            " [15 20 35]]\n",
            "\n",
            "Resized (2x6) array:\n",
            " [[10 20 30 40 50 60]\n",
            " [70 80 90 15 20 35]]\n"
          ]
        }
      ]
    }
  ]
}