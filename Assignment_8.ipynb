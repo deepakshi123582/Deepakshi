{
  "nbformat": 4,
  "nbformat_minor": 0,
  "metadata": {
    "colab": {
      "provenance": []
    },
    "kernelspec": {
      "name": "python3",
      "display_name": "Python 3"
    },
    "language_info": {
      "name": "python"
    }
  },
  "cells": [
    {
      "cell_type": "code",
      "source": [
        "def health_bot():\n",
        "    print(\"Hello! I am HealthBot. How can I assist you today?\")\n",
        "\n",
        "    while True:\n",
        "        user_input = input(\"You: \").lower()\n",
        "\n",
        "        if any(greeting in user_input for greeting in [\"hi\", \"hello\"]):\n",
        "            print(\"HealthBot: Hi! Do you have a health-related question?\")\n",
        "\n",
        "        elif \"headache\" in user_input:\n",
        "            print(\"HealthBot: You should rest, stay hydrated, and take a mild pain reliever if needed.\")\n",
        "\n",
        "        elif \"fever\" in user_input:\n",
        "            print(\"HealthBot: Drink plenty of fluids and rest. If the fever persists, please consult a doctor.\")\n",
        "\n",
        "        elif \"dizzy\" in user_input:\n",
        "            print(\"HealthBot: Sit down, breathe deeply, and drink water. If it continues, seek medical help.\")\n",
        "\n",
        "        elif \"cold\" in user_input:\n",
        "            print(\"HealthBot: Warm fluids, soups, citrus fruits, and light meals help during a cold.\")\n",
        "\n",
        "        elif \"healthy\" in user_input:\n",
        "            print(\"HealthBot: Eat balanced meals, exercise regularly, stay hydrated, and get enough sleep.\")\n",
        "\n",
        "        elif \"cut\" in user_input:\n",
        "            print(\"HealthBot: Clean the wound with water, apply antiseptic, and cover it with a clean bandage.\")\n",
        "\n",
        "        elif \"water\" in user_input or \"drink\" in user_input:\n",
        "            print(\"HealthBot: Generally, 2 to 3 liters per day is recommended, but it varies based on your activity.\")\n",
        "\n",
        "        elif \"thank\" in user_input:\n",
        "            print(\"HealthBot: You're welcome! Take care.\")\n",
        "\n",
        "        elif \"bye\" in user_input:\n",
        "            print(\"HealthBot: Goodbye! Stay healthy.\")\n",
        "            break\n",
        "\n",
        "        else:\n",
        "            print(\"HealthBot: I'm sorry, I don't have information on that. Please consult a medical professional.\")\n",
        "\n",
        "# Run the bot\n",
        "health_bot()\n"
      ],
      "metadata": {
        "colab": {
          "base_uri": "https://localhost:8080/"
        },
        "id": "SI400EA_Iqzw",
        "outputId": "ff01c754-aec7-4963-b0e7-45f1c82ad0e8"
      },
      "execution_count": null,
      "outputs": [
        {
          "output_type": "stream",
          "name": "stdout",
          "text": [
            "Hello! I am HealthBot. How can I assist you today?\n",
            "You: i have a headache\n",
            "HealthBot: You should rest, stay hydrated, and take a mild pain reliever if needed.\n",
            "You: i  jave a fever\n",
            "HealthBot: Drink plenty of fluids and rest. If the fever persists, please consult a doctor.\n",
            "You: i have a cold\n",
            "HealthBot: Warm fluids, soups, citrus fruits, and light meals help during a cold.\n"
          ]
        }
      ]
    }
  ]
}